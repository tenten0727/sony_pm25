{
 "cells": [
  {
   "cell_type": "code",
   "execution_count": 26,
   "metadata": {},
   "outputs": [
    {
     "name": "stdout",
     "output_type": "stream",
     "text": [
      "The autoreload extension is already loaded. To reload it, use:\n",
      "  %reload_ext autoreload\n"
     ]
    }
   ],
   "source": [
    "%load_ext autoreload\n",
    "%autoreload 2\n",
    "\n",
    "import pandas as pd\n",
    "import numpy as np\n",
    "import sys\n",
    "sys.path.append('../src/')\n",
    "sys.path.append('../src/exp_002')\n",
    "from preprocess import read_data, get_data"
   ]
  },
  {
   "cell_type": "code",
   "execution_count": 27,
   "metadata": {},
   "outputs": [
    {
     "name": "stdout",
     "output_type": "stream",
     "text": [
      "==================== start run blocks ====================\n",
      "\t- <preprocess.NumericBlock object at 0x7f5f901adbd0> 0.142[s]\n",
      "\t- <preprocess.TargetEncodingBlock object at 0x7f5f901adc10> 0.258[s]\n",
      "run test = False 0.465[s]\n",
      "==================== start run blocks ====================\n",
      "\t- <preprocess.NumericBlock object at 0x7f5f901adbd0> 0.014[s]\n",
      "\t- <preprocess.TargetEncodingBlock object at 0x7f5f901adc10> 0.005[s]\n",
      "run test = True 0.031[s]\n"
     ]
    },
    {
     "name": "stderr",
     "output_type": "stream",
     "text": [
      "/home/yoshikawa/.pyenv/versions/3.7.10/envs/sony_pm25/lib/python3.7/site-packages/pandas/core/indexing.py:1732: SettingWithCopyWarning: \n",
      "A value is trying to be set on a copy of a slice from a DataFrame\n",
      "\n",
      "See the caveats in the documentation: https://pandas.pydata.org/pandas-docs/stable/user_guide/indexing.html#returning-a-view-versus-a-copy\n",
      "  self._setitem_single_block(indexer, value, name)\n",
      "/home/yoshikawa/.pyenv/versions/3.7.10/envs/sony_pm25/lib/python3.7/site-packages/pandas/core/indexing.py:723: SettingWithCopyWarning: \n",
      "A value is trying to be set on a copy of a slice from a DataFrame\n",
      "\n",
      "See the caveats in the documentation: https://pandas.pydata.org/pandas-docs/stable/user_guide/indexing.html#returning-a-view-versus-a-copy\n",
      "  iloc._setitem_with_indexer(indexer, value, self.name)\n",
      "../src/exp_002/preprocess.py:32: SettingWithCopyWarning: \n",
      "A value is trying to be set on a copy of a slice from a DataFrame.\n",
      "Try using .loc[row_indexer,col_indexer] = value instead\n",
      "\n",
      "See the caveats in the documentation: https://pandas.pydata.org/pandas-docs/stable/user_guide/indexing.html#returning-a-view-versus-a-copy\n",
      "  output_df[col] = output_df[col].astype(float)\n",
      "../src/exp_002/preprocess.py:42: SettingWithCopyWarning: \n",
      "A value is trying to be set on a copy of a slice from a DataFrame.\n",
      "Try using .loc[row_indexer,col_indexer] = value instead\n",
      "\n",
      "See the caveats in the documentation: https://pandas.pydata.org/pandas-docs/stable/user_guide/indexing.html#returning-a-view-versus-a-copy\n",
      "  \n"
     ]
    }
   ],
   "source": [
    "X_train, y, group, X_test, submit = get_data()"
   ]
  },
  {
   "cell_type": "code",
   "execution_count": 28,
   "metadata": {},
   "outputs": [
    {
     "data": {
      "text/html": [
       "<div>\n",
       "<style scoped>\n",
       "    .dataframe tbody tr th:only-of-type {\n",
       "        vertical-align: middle;\n",
       "    }\n",
       "\n",
       "    .dataframe tbody tr th {\n",
       "        vertical-align: top;\n",
       "    }\n",
       "\n",
       "    .dataframe thead th {\n",
       "        text-align: right;\n",
       "    }\n",
       "</style>\n",
       "<table border=\"1\" class=\"dataframe\">\n",
       "  <thead>\n",
       "    <tr style=\"text-align: right;\">\n",
       "      <th></th>\n",
       "      <th>year@NumericBlock</th>\n",
       "      <th>month@NumericBlock</th>\n",
       "      <th>day@NumericBlock</th>\n",
       "      <th>lat@NumericBlock</th>\n",
       "      <th>lon@NumericBlock</th>\n",
       "      <th>co_cnt@NumericBlock</th>\n",
       "      <th>co_min@NumericBlock</th>\n",
       "      <th>co_mid@NumericBlock</th>\n",
       "      <th>co_max@NumericBlock</th>\n",
       "      <th>co_var@NumericBlock</th>\n",
       "      <th>...</th>\n",
       "      <th>ws_min@NumericBlock</th>\n",
       "      <th>ws_mid@NumericBlock</th>\n",
       "      <th>ws_max@NumericBlock</th>\n",
       "      <th>ws_var@NumericBlock</th>\n",
       "      <th>dew_cnt@NumericBlock</th>\n",
       "      <th>dew_min@NumericBlock</th>\n",
       "      <th>dew_mid@NumericBlock</th>\n",
       "      <th>dew_max@NumericBlock</th>\n",
       "      <th>dew_var@NumericBlock</th>\n",
       "      <th>Country@TargetEncodingBlock</th>\n",
       "    </tr>\n",
       "  </thead>\n",
       "  <tbody>\n",
       "    <tr>\n",
       "      <th>0</th>\n",
       "      <td>2019</td>\n",
       "      <td>1</td>\n",
       "      <td>1</td>\n",
       "      <td>-27.46794</td>\n",
       "      <td>153.02809</td>\n",
       "      <td>38</td>\n",
       "      <td>0.749</td>\n",
       "      <td>2.590</td>\n",
       "      <td>2.633</td>\n",
       "      <td>0.850</td>\n",
       "      <td>...</td>\n",
       "      <td>0.241</td>\n",
       "      <td>1.088</td>\n",
       "      <td>3.101</td>\n",
       "      <td>1.983</td>\n",
       "      <td>17</td>\n",
       "      <td>7.671</td>\n",
       "      <td>10.358</td>\n",
       "      <td>15.112</td>\n",
       "      <td>13.424</td>\n",
       "      <td>38.005275</td>\n",
       "    </tr>\n",
       "    <tr>\n",
       "      <th>1</th>\n",
       "      <td>2019</td>\n",
       "      <td>1</td>\n",
       "      <td>1</td>\n",
       "      <td>-12.46113</td>\n",
       "      <td>130.84185</td>\n",
       "      <td>47</td>\n",
       "      <td>2.594</td>\n",
       "      <td>3.181</td>\n",
       "      <td>4.828</td>\n",
       "      <td>1.208</td>\n",
       "      <td>...</td>\n",
       "      <td>0.828</td>\n",
       "      <td>3.473</td>\n",
       "      <td>7.396</td>\n",
       "      <td>10.411</td>\n",
       "      <td>62</td>\n",
       "      <td>21.324</td>\n",
       "      <td>23.813</td>\n",
       "      <td>24.221</td>\n",
       "      <td>2.021</td>\n",
       "      <td>39.010534</td>\n",
       "    </tr>\n",
       "    <tr>\n",
       "      <th>2</th>\n",
       "      <td>2019</td>\n",
       "      <td>1</td>\n",
       "      <td>1</td>\n",
       "      <td>-37.81400</td>\n",
       "      <td>144.96332</td>\n",
       "      <td>17</td>\n",
       "      <td>1.190</td>\n",
       "      <td>1.197</td>\n",
       "      <td>2.200</td>\n",
       "      <td>0.248</td>\n",
       "      <td>...</td>\n",
       "      <td>0.000</td>\n",
       "      <td>2.107</td>\n",
       "      <td>8.089</td>\n",
       "      <td>15.719</td>\n",
       "      <td>22</td>\n",
       "      <td>10.309</td>\n",
       "      <td>13.133</td>\n",
       "      <td>15.422</td>\n",
       "      <td>6.355</td>\n",
       "      <td>39.010534</td>\n",
       "    </tr>\n",
       "    <tr>\n",
       "      <th>3</th>\n",
       "      <td>2019</td>\n",
       "      <td>1</td>\n",
       "      <td>1</td>\n",
       "      <td>-32.92953</td>\n",
       "      <td>151.78010</td>\n",
       "      <td>63</td>\n",
       "      <td>4.586</td>\n",
       "      <td>11.044</td>\n",
       "      <td>14.802</td>\n",
       "      <td>24.186</td>\n",
       "      <td>...</td>\n",
       "      <td>0.284</td>\n",
       "      <td>0.503</td>\n",
       "      <td>3.592</td>\n",
       "      <td>2.485</td>\n",
       "      <td>116</td>\n",
       "      <td>7.146</td>\n",
       "      <td>10.685</td>\n",
       "      <td>13.344</td>\n",
       "      <td>9.417</td>\n",
       "      <td>35.274845</td>\n",
       "    </tr>\n",
       "    <tr>\n",
       "      <th>4</th>\n",
       "      <td>2019</td>\n",
       "      <td>1</td>\n",
       "      <td>1</td>\n",
       "      <td>-31.95224</td>\n",
       "      <td>115.86140</td>\n",
       "      <td>47</td>\n",
       "      <td>4.689</td>\n",
       "      <td>8.681</td>\n",
       "      <td>11.100</td>\n",
       "      <td>10.011</td>\n",
       "      <td>...</td>\n",
       "      <td>0.500</td>\n",
       "      <td>0.755</td>\n",
       "      <td>3.396</td>\n",
       "      <td>1.937</td>\n",
       "      <td>93</td>\n",
       "      <td>1.091</td>\n",
       "      <td>3.277</td>\n",
       "      <td>12.272</td>\n",
       "      <td>4.109</td>\n",
       "      <td>35.274845</td>\n",
       "    </tr>\n",
       "  </tbody>\n",
       "</table>\n",
       "<p>5 rows × 51 columns</p>\n",
       "</div>"
      ],
      "text/plain": [
       "   year@NumericBlock  month@NumericBlock  day@NumericBlock  lat@NumericBlock  \\\n",
       "0               2019                   1                 1         -27.46794   \n",
       "1               2019                   1                 1         -12.46113   \n",
       "2               2019                   1                 1         -37.81400   \n",
       "3               2019                   1                 1         -32.92953   \n",
       "4               2019                   1                 1         -31.95224   \n",
       "\n",
       "   lon@NumericBlock  co_cnt@NumericBlock  co_min@NumericBlock  \\\n",
       "0         153.02809                   38                0.749   \n",
       "1         130.84185                   47                2.594   \n",
       "2         144.96332                   17                1.190   \n",
       "3         151.78010                   63                4.586   \n",
       "4         115.86140                   47                4.689   \n",
       "\n",
       "   co_mid@NumericBlock  co_max@NumericBlock  co_var@NumericBlock  ...  \\\n",
       "0                2.590                2.633                0.850  ...   \n",
       "1                3.181                4.828                1.208  ...   \n",
       "2                1.197                2.200                0.248  ...   \n",
       "3               11.044               14.802               24.186  ...   \n",
       "4                8.681               11.100               10.011  ...   \n",
       "\n",
       "   ws_min@NumericBlock  ws_mid@NumericBlock  ws_max@NumericBlock  \\\n",
       "0                0.241                1.088                3.101   \n",
       "1                0.828                3.473                7.396   \n",
       "2                0.000                2.107                8.089   \n",
       "3                0.284                0.503                3.592   \n",
       "4                0.500                0.755                3.396   \n",
       "\n",
       "   ws_var@NumericBlock  dew_cnt@NumericBlock  dew_min@NumericBlock  \\\n",
       "0                1.983                    17                 7.671   \n",
       "1               10.411                    62                21.324   \n",
       "2               15.719                    22                10.309   \n",
       "3                2.485                   116                 7.146   \n",
       "4                1.937                    93                 1.091   \n",
       "\n",
       "   dew_mid@NumericBlock  dew_max@NumericBlock  dew_var@NumericBlock  \\\n",
       "0                10.358                15.112                13.424   \n",
       "1                23.813                24.221                 2.021   \n",
       "2                13.133                15.422                 6.355   \n",
       "3                10.685                13.344                 9.417   \n",
       "4                 3.277                12.272                 4.109   \n",
       "\n",
       "   Country@TargetEncodingBlock  \n",
       "0                    38.005275  \n",
       "1                    39.010534  \n",
       "2                    39.010534  \n",
       "3                    35.274845  \n",
       "4                    35.274845  \n",
       "\n",
       "[5 rows x 51 columns]"
      ]
     },
     "execution_count": 28,
     "metadata": {},
     "output_type": "execute_result"
    }
   ],
   "source": [
    "X_train.head()"
   ]
  },
  {
   "cell_type": "code",
   "execution_count": 29,
   "metadata": {},
   "outputs": [
    {
     "data": {
      "text/plain": [
       "year@NumericBlock                  0\n",
       "month@NumericBlock                 0\n",
       "day@NumericBlock                   0\n",
       "lat@NumericBlock                   0\n",
       "lon@NumericBlock                   0\n",
       "co_cnt@NumericBlock                0\n",
       "co_min@NumericBlock                0\n",
       "co_mid@NumericBlock                0\n",
       "co_max@NumericBlock                0\n",
       "co_var@NumericBlock                0\n",
       "o3_cnt@NumericBlock                0\n",
       "o3_min@NumericBlock                0\n",
       "o3_mid@NumericBlock                0\n",
       "o3_max@NumericBlock                0\n",
       "o3_var@NumericBlock                0\n",
       "so2_cnt@NumericBlock               0\n",
       "so2_min@NumericBlock               0\n",
       "so2_mid@NumericBlock               0\n",
       "so2_max@NumericBlock               0\n",
       "so2_var@NumericBlock               0\n",
       "no2_cnt@NumericBlock               0\n",
       "no2_min@NumericBlock               0\n",
       "no2_mid@NumericBlock               0\n",
       "no2_max@NumericBlock               0\n",
       "no2_var@NumericBlock               0\n",
       "temperature_cnt@NumericBlock       0\n",
       "temperature_min@NumericBlock       0\n",
       "temperature_mid@NumericBlock       0\n",
       "temperature_max@NumericBlock       0\n",
       "temperature_var@NumericBlock       0\n",
       "humidity_cnt@NumericBlock          0\n",
       "humidity_min@NumericBlock          0\n",
       "humidity_mid@NumericBlock          0\n",
       "humidity_max@NumericBlock          0\n",
       "humidity_var@NumericBlock          0\n",
       "pressure_cnt@NumericBlock          0\n",
       "pressure_min@NumericBlock          0\n",
       "pressure_mid@NumericBlock          0\n",
       "pressure_max@NumericBlock          0\n",
       "pressure_var@NumericBlock          0\n",
       "ws_cnt@NumericBlock                0\n",
       "ws_min@NumericBlock                0\n",
       "ws_mid@NumericBlock                0\n",
       "ws_max@NumericBlock                0\n",
       "ws_var@NumericBlock                0\n",
       "dew_cnt@NumericBlock               0\n",
       "dew_min@NumericBlock               0\n",
       "dew_mid@NumericBlock               0\n",
       "dew_max@NumericBlock               0\n",
       "dew_var@NumericBlock               0\n",
       "Country@TargetEncodingBlock     5166\n",
       "dtype: int64"
      ]
     },
     "execution_count": 29,
     "metadata": {},
     "output_type": "execute_result"
    }
   ],
   "source": [
    "X_train.isnull().sum()"
   ]
  },
  {
   "cell_type": "code",
   "execution_count": 30,
   "metadata": {},
   "outputs": [
    {
     "data": {
      "text/plain": [
       "year@NumericBlock               0\n",
       "month@NumericBlock              0\n",
       "day@NumericBlock                0\n",
       "lat@NumericBlock                0\n",
       "lon@NumericBlock                0\n",
       "co_cnt@NumericBlock             0\n",
       "co_min@NumericBlock             0\n",
       "co_mid@NumericBlock             0\n",
       "co_max@NumericBlock             0\n",
       "co_var@NumericBlock             0\n",
       "o3_cnt@NumericBlock             0\n",
       "o3_min@NumericBlock             0\n",
       "o3_mid@NumericBlock             0\n",
       "o3_max@NumericBlock             0\n",
       "o3_var@NumericBlock             0\n",
       "so2_cnt@NumericBlock            0\n",
       "so2_min@NumericBlock            0\n",
       "so2_mid@NumericBlock            0\n",
       "so2_max@NumericBlock            0\n",
       "so2_var@NumericBlock            0\n",
       "no2_cnt@NumericBlock            0\n",
       "no2_min@NumericBlock            0\n",
       "no2_mid@NumericBlock            0\n",
       "no2_max@NumericBlock            0\n",
       "no2_var@NumericBlock            0\n",
       "temperature_cnt@NumericBlock    0\n",
       "temperature_min@NumericBlock    0\n",
       "temperature_mid@NumericBlock    0\n",
       "temperature_max@NumericBlock    0\n",
       "temperature_var@NumericBlock    0\n",
       "humidity_cnt@NumericBlock       0\n",
       "humidity_min@NumericBlock       0\n",
       "humidity_mid@NumericBlock       0\n",
       "humidity_max@NumericBlock       0\n",
       "humidity_var@NumericBlock       0\n",
       "pressure_cnt@NumericBlock       0\n",
       "pressure_min@NumericBlock       0\n",
       "pressure_mid@NumericBlock       0\n",
       "pressure_max@NumericBlock       0\n",
       "pressure_var@NumericBlock       0\n",
       "ws_cnt@NumericBlock             0\n",
       "ws_min@NumericBlock             0\n",
       "ws_mid@NumericBlock             0\n",
       "ws_max@NumericBlock             0\n",
       "ws_var@NumericBlock             0\n",
       "dew_cnt@NumericBlock            0\n",
       "dew_min@NumericBlock            0\n",
       "dew_mid@NumericBlock            0\n",
       "dew_max@NumericBlock            0\n",
       "dew_var@NumericBlock            0\n",
       "Country@TargetEncodingBlock     0\n",
       "dtype: int64"
      ]
     },
     "execution_count": 30,
     "metadata": {},
     "output_type": "execute_result"
    }
   ],
   "source": [
    "X_test.isnull().sum()"
   ]
  },
  {
   "cell_type": "code",
   "execution_count": 31,
   "metadata": {},
   "outputs": [
    {
     "data": {
      "text/plain": [
       "<AxesSubplot:>"
      ]
     },
     "execution_count": 31,
     "metadata": {},
     "output_type": "execute_result"
    },
    {
     "data": {
      "image/png": "[encoded data removed]",
      "text/plain": [
       "<Figure size 432x288 with 1 Axes>"
      ]
     },
     "metadata": {
      "needs_background": "light"
     },
     "output_type": "display_data"
    }
   ],
   "source": [
    "y.hist()"
   ]
  },
  {
   "cell_type": "code",
   "execution_count": 32,
   "metadata": {},
   "outputs": [
    {
     "data": {
      "text/plain": [
       "<AxesSubplot:>"
      ]
     },
     "execution_count": 32,
     "metadata": {},
     "output_type": "execute_result"
    },
    {
     "data": {
      "image/png": "[encoded data removed]",
      "text/plain": [
       "<Figure size 432x288 with 1 Axes>"
      ]
     },
     "metadata": {
      "needs_background": "light"
     },
     "output_type": "display_data"
    }
   ],
   "source": [
    "pd.Series(np.log1p(y)).hist()"
   ]
  }
 ],
 "metadata": {
  "interpreter": {
   "hash": "40fff4012b1e91f4312a2f834741826b8636cc31be108fc37d9fce4b6ea9eeb4"
  },
  "kernelspec": {
   "display_name": "Python 3.7.10 64-bit ('sony_pm25')",
   "language": "python",
   "name": "python3"
  },
  "language_info": {
   "codemirror_mode": {
    "name": "ipython",
    "version": 3
   },
   "file_extension": ".py",
   "mimetype": "text/x-python",
   "name": "python",
   "nbconvert_exporter": "python",
   "pygments_lexer": "ipython3",
   "version": "3.7.10"
  },
  "orig_nbformat": 4
 },
 "nbformat": 4,
 "nbformat_minor": 2
}
