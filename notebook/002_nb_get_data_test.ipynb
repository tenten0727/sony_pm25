{
 "cells": [
  {
   "cell_type": "code",
   "execution_count": 285,
   "metadata": {},
   "outputs": [
    {
     "name": "stdout",
     "output_type": "stream",
     "text": [
      "The autoreload extension is already loaded. To reload it, use:\n",
      "  %reload_ext autoreload\n"
     ]
    }
   ],
   "source": [
    "%load_ext autoreload\n",
    "%autoreload 2\n",
    "\n",
    "import pandas as pd\n",
    "import numpy as np\n",
    "import sys\n",
    "sys.path.append('../src/')\n",
    "sys.path.append('../src/exp_004')\n",
    "from preprocess import read_data, get_data"
   ]
  },
  {
   "cell_type": "code",
   "execution_count": 286,
   "metadata": {},
   "outputs": [
    {
     "name": "stderr",
     "output_type": "stream",
     "text": [
      "../src/exp_004/preprocess.py:84: SettingWithCopyWarning: \n",
      "A value is trying to be set on a copy of a slice from a DataFrame.\n",
      "Try using .loc[row_indexer,col_indexer] = value instead\n",
      "\n",
      "See the caveats in the documentation: https://pandas.pydata.org/pandas-docs/stable/user_guide/indexing.html#returning-a-view-versus-a-copy\n",
      "  output_df['date'] = pd.to_datetime(output_df['date'])\n",
      "../src/exp_004/preprocess.py:85: SettingWithCopyWarning: \n",
      "A value is trying to be set on a copy of a slice from a DataFrame.\n",
      "Try using .loc[row_indexer,col_indexer] = value instead\n",
      "\n",
      "See the caveats in the documentation: https://pandas.pydata.org/pandas-docs/stable/user_guide/indexing.html#returning-a-view-versus-a-copy\n",
      "  output_df['dayofweek'] = output_df['date'].dt.dayofweek.astype('category')\n",
      "../src/exp_004/preprocess.py:86: SettingWithCopyWarning: \n",
      "A value is trying to be set on a copy of a slice from a DataFrame.\n",
      "Try using .loc[row_indexer,col_indexer] = value instead\n",
      "\n",
      "See the caveats in the documentation: https://pandas.pydata.org/pandas-docs/stable/user_guide/indexing.html#returning-a-view-versus-a-copy\n",
      "  output_df['is_holiday'] = 0\n",
      "../src/exp_004/preprocess.py:87: SettingWithCopyWarning: \n",
      "A value is trying to be set on a copy of a slice from a DataFrame.\n",
      "Try using .loc[row_indexer,col_indexer] = value instead\n",
      "\n",
      "See the caveats in the documentation: https://pandas.pydata.org/pandas-docs/stable/user_guide/indexing.html#returning-a-view-versus-a-copy\n",
      "  output_df.loc[output_df['dayofweek'].isin([5, 6]), 'is_holiday'] = 1\n",
      "/home/yoshikawa/.pyenv/versions/3.7.10/envs/sony_pm25/lib/python3.7/site-packages/pandas/core/indexing.py:1817: SettingWithCopyWarning: \n",
      "A value is trying to be set on a copy of a slice from a DataFrame.\n",
      "Try using .loc[row_indexer,col_indexer] = value instead\n",
      "\n",
      "See the caveats in the documentation: https://pandas.pydata.org/pandas-docs/stable/user_guide/indexing.html#returning-a-view-versus-a-copy\n",
      "  self._setitem_single_column(loc, value, pi)\n",
      "../src/exp_004/preprocess.py:101: SettingWithCopyWarning: \n",
      "A value is trying to be set on a copy of a slice from a DataFrame.\n",
      "Try using .loc[row_indexer,col_indexer] = value instead\n",
      "\n",
      "See the caveats in the documentation: https://pandas.pydata.org/pandas-docs/stable/user_guide/indexing.html#returning-a-view-versus-a-copy\n",
      "  for i in range(self.cv.nunique()):\n",
      "../src/exp_004/preprocess.py:102: SettingWithCopyWarning: \n",
      "A value is trying to be set on a copy of a slice from a DataFrame.\n",
      "Try using .loc[row_indexer,col_indexer] = value instead\n",
      "\n",
      "See the caveats in the documentation: https://pandas.pydata.org/pandas-docs/stable/user_guide/indexing.html#returning-a-view-versus-a-copy\n",
      "  trn_city_mean = output_df[self.cv != i].groupby(['lat', 'lon'])['y'].mean().reset_index()\n",
      "/home/yoshikawa/.pyenv/versions/3.7.10/envs/sony_pm25/lib/python3.7/site-packages/pandas/core/indexing.py:1773: SettingWithCopyWarning: \n",
      "A value is trying to be set on a copy of a slice from a DataFrame.\n",
      "Try using .loc[row_indexer,col_indexer] = value instead\n",
      "\n",
      "See the caveats in the documentation: https://pandas.pydata.org/pandas-docs/stable/user_guide/indexing.html#returning-a-view-versus-a-copy\n",
      "  self._setitem_single_column(ilocs[0], value, pi)\n",
      "/home/yoshikawa/.pyenv/versions/3.7.10/envs/sony_pm25/lib/python3.7/site-packages/pandas/core/indexing.py:1732: SettingWithCopyWarning: \n",
      "A value is trying to be set on a copy of a slice from a DataFrame\n",
      "\n",
      "See the caveats in the documentation: https://pandas.pydata.org/pandas-docs/stable/user_guide/indexing.html#returning-a-view-versus-a-copy\n",
      "  self._setitem_single_block(indexer, value, name)\n",
      "/home/yoshikawa/.pyenv/versions/3.7.10/envs/sony_pm25/lib/python3.7/site-packages/pandas/core/indexing.py:723: SettingWithCopyWarning: \n",
      "A value is trying to be set on a copy of a slice from a DataFrame\n",
      "\n",
      "See the caveats in the documentation: https://pandas.pydata.org/pandas-docs/stable/user_guide/indexing.html#returning-a-view-versus-a-copy\n",
      "  iloc._setitem_with_indexer(indexer, value, self.name)\n",
      "/home/yoshikawa/.pyenv/versions/3.7.10/envs/sony_pm25/lib/python3.7/site-packages/pandas/core/indexing.py:1732: SettingWithCopyWarning: \n",
      "A value is trying to be set on a copy of a slice from a DataFrame\n",
      "\n",
      "See the caveats in the documentation: https://pandas.pydata.org/pandas-docs/stable/user_guide/indexing.html#returning-a-view-versus-a-copy\n",
      "  self._setitem_single_block(indexer, value, name)\n",
      "/home/yoshikawa/.pyenv/versions/3.7.10/envs/sony_pm25/lib/python3.7/site-packages/pandas/core/indexing.py:723: SettingWithCopyWarning: \n",
      "A value is trying to be set on a copy of a slice from a DataFrame\n",
      "\n",
      "See the caveats in the documentation: https://pandas.pydata.org/pandas-docs/stable/user_guide/indexing.html#returning-a-view-versus-a-copy\n",
      "  iloc._setitem_with_indexer(indexer, value, self.name)\n",
      "/home/yoshikawa/.pyenv/versions/3.7.10/envs/sony_pm25/lib/python3.7/site-packages/pandas/core/indexing.py:1732: SettingWithCopyWarning: \n",
      "A value is trying to be set on a copy of a slice from a DataFrame\n",
      "\n",
      "See the caveats in the documentation: https://pandas.pydata.org/pandas-docs/stable/user_guide/indexing.html#returning-a-view-versus-a-copy\n",
      "  self._setitem_single_block(indexer, value, name)\n",
      "/home/yoshikawa/.pyenv/versions/3.7.10/envs/sony_pm25/lib/python3.7/site-packages/pandas/core/indexing.py:723: SettingWithCopyWarning: \n",
      "A value is trying to be set on a copy of a slice from a DataFrame\n",
      "\n",
      "See the caveats in the documentation: https://pandas.pydata.org/pandas-docs/stable/user_guide/indexing.html#returning-a-view-versus-a-copy\n",
      "  iloc._setitem_with_indexer(indexer, value, self.name)\n",
      "/home/yoshikawa/.pyenv/versions/3.7.10/envs/sony_pm25/lib/python3.7/site-packages/pandas/core/indexing.py:1732: SettingWithCopyWarning: \n",
      "A value is trying to be set on a copy of a slice from a DataFrame\n",
      "\n",
      "See the caveats in the documentation: https://pandas.pydata.org/pandas-docs/stable/user_guide/indexing.html#returning-a-view-versus-a-copy\n",
      "  self._setitem_single_block(indexer, value, name)\n",
      "/home/yoshikawa/.pyenv/versions/3.7.10/envs/sony_pm25/lib/python3.7/site-packages/pandas/core/indexing.py:723: SettingWithCopyWarning: \n",
      "A value is trying to be set on a copy of a slice from a DataFrame\n",
      "\n",
      "See the caveats in the documentation: https://pandas.pydata.org/pandas-docs/stable/user_guide/indexing.html#returning-a-view-versus-a-copy\n",
      "  iloc._setitem_with_indexer(indexer, value, self.name)\n",
      "../src/exp_004/preprocess.py:119: SettingWithCopyWarning: \n",
      "A value is trying to be set on a copy of a slice from a DataFrame.\n",
      "Try using .loc[row_indexer,col_indexer] = value instead\n",
      "\n",
      "See the caveats in the documentation: https://pandas.pydata.org/pandas-docs/stable/user_guide/indexing.html#returning-a-view-versus-a-copy\n",
      "  return output_df[['knn_mean_y']]\n",
      "../src/exp_004/preprocess.py:101: SettingWithCopyWarning: \n",
      "A value is trying to be set on a copy of a slice from a DataFrame.\n",
      "Try using .loc[row_indexer,col_indexer] = value instead\n",
      "\n",
      "See the caveats in the documentation: https://pandas.pydata.org/pandas-docs/stable/user_guide/indexing.html#returning-a-view-versus-a-copy\n",
      "  for i in range(self.cv.nunique()):\n",
      "../src/exp_004/preprocess.py:102: SettingWithCopyWarning: \n",
      "A value is trying to be set on a copy of a slice from a DataFrame.\n",
      "Try using .loc[row_indexer,col_indexer] = value instead\n",
      "\n",
      "See the caveats in the documentation: https://pandas.pydata.org/pandas-docs/stable/user_guide/indexing.html#returning-a-view-versus-a-copy\n",
      "  trn_city_mean = output_df[self.cv != i].groupby(['lat', 'lon'])['y'].mean().reset_index()\n",
      "/home/yoshikawa/.pyenv/versions/3.7.10/envs/sony_pm25/lib/python3.7/site-packages/pandas/core/indexing.py:1773: SettingWithCopyWarning: \n",
      "A value is trying to be set on a copy of a slice from a DataFrame.\n",
      "Try using .loc[row_indexer,col_indexer] = value instead\n",
      "\n",
      "See the caveats in the documentation: https://pandas.pydata.org/pandas-docs/stable/user_guide/indexing.html#returning-a-view-versus-a-copy\n",
      "  self._setitem_single_column(ilocs[0], value, pi)\n",
      "/home/yoshikawa/.pyenv/versions/3.7.10/envs/sony_pm25/lib/python3.7/site-packages/pandas/core/indexing.py:1732: SettingWithCopyWarning: \n",
      "A value is trying to be set on a copy of a slice from a DataFrame\n",
      "\n",
      "See the caveats in the documentation: https://pandas.pydata.org/pandas-docs/stable/user_guide/indexing.html#returning-a-view-versus-a-copy\n",
      "  self._setitem_single_block(indexer, value, name)\n",
      "/home/yoshikawa/.pyenv/versions/3.7.10/envs/sony_pm25/lib/python3.7/site-packages/pandas/core/indexing.py:723: SettingWithCopyWarning: \n",
      "A value is trying to be set on a copy of a slice from a DataFrame\n",
      "\n",
      "See the caveats in the documentation: https://pandas.pydata.org/pandas-docs/stable/user_guide/indexing.html#returning-a-view-versus-a-copy\n",
      "  iloc._setitem_with_indexer(indexer, value, self.name)\n",
      "/home/yoshikawa/.pyenv/versions/3.7.10/envs/sony_pm25/lib/python3.7/site-packages/pandas/core/indexing.py:1732: SettingWithCopyWarning: \n",
      "A value is trying to be set on a copy of a slice from a DataFrame\n",
      "\n",
      "See the caveats in the documentation: https://pandas.pydata.org/pandas-docs/stable/user_guide/indexing.html#returning-a-view-versus-a-copy\n",
      "  self._setitem_single_block(indexer, value, name)\n",
      "/home/yoshikawa/.pyenv/versions/3.7.10/envs/sony_pm25/lib/python3.7/site-packages/pandas/core/indexing.py:723: SettingWithCopyWarning: \n",
      "A value is trying to be set on a copy of a slice from a DataFrame\n",
      "\n",
      "See the caveats in the documentation: https://pandas.pydata.org/pandas-docs/stable/user_guide/indexing.html#returning-a-view-versus-a-copy\n",
      "  iloc._setitem_with_indexer(indexer, value, self.name)\n",
      "/home/yoshikawa/.pyenv/versions/3.7.10/envs/sony_pm25/lib/python3.7/site-packages/pandas/core/indexing.py:1732: SettingWithCopyWarning: \n",
      "A value is trying to be set on a copy of a slice from a DataFrame\n",
      "\n",
      "See the caveats in the documentation: https://pandas.pydata.org/pandas-docs/stable/user_guide/indexing.html#returning-a-view-versus-a-copy\n",
      "  self._setitem_single_block(indexer, value, name)\n",
      "/home/yoshikawa/.pyenv/versions/3.7.10/envs/sony_pm25/lib/python3.7/site-packages/pandas/core/indexing.py:723: SettingWithCopyWarning: \n",
      "A value is trying to be set on a copy of a slice from a DataFrame\n",
      "\n",
      "See the caveats in the documentation: https://pandas.pydata.org/pandas-docs/stable/user_guide/indexing.html#returning-a-view-versus-a-copy\n",
      "  iloc._setitem_with_indexer(indexer, value, self.name)\n",
      "/home/yoshikawa/.pyenv/versions/3.7.10/envs/sony_pm25/lib/python3.7/site-packages/pandas/core/indexing.py:1732: SettingWithCopyWarning: \n",
      "A value is trying to be set on a copy of a slice from a DataFrame\n",
      "\n",
      "See the caveats in the documentation: https://pandas.pydata.org/pandas-docs/stable/user_guide/indexing.html#returning-a-view-versus-a-copy\n",
      "  self._setitem_single_block(indexer, value, name)\n",
      "/home/yoshikawa/.pyenv/versions/3.7.10/envs/sony_pm25/lib/python3.7/site-packages/pandas/core/indexing.py:723: SettingWithCopyWarning: \n",
      "A value is trying to be set on a copy of a slice from a DataFrame\n",
      "\n",
      "See the caveats in the documentation: https://pandas.pydata.org/pandas-docs/stable/user_guide/indexing.html#returning-a-view-versus-a-copy\n",
      "  iloc._setitem_with_indexer(indexer, value, self.name)\n",
      "../src/exp_004/preprocess.py:119: SettingWithCopyWarning: \n",
      "A value is trying to be set on a copy of a slice from a DataFrame.\n",
      "Try using .loc[row_indexer,col_indexer] = value instead\n",
      "\n",
      "See the caveats in the documentation: https://pandas.pydata.org/pandas-docs/stable/user_guide/indexing.html#returning-a-view-versus-a-copy\n",
      "  return output_df[['knn_mean_y']]\n"
     ]
    },
    {
     "name": "stdout",
     "output_type": "stream",
     "text": [
      "==================== start run blocks ====================\n",
      "\t- <preprocess.TargetEncodingBlock object at 0x7fe560c28310> 1.781[s]\n",
      "\t- <preprocess.TargetEncodingBlock object at 0x7fe560c28390> 1.747[s]\n",
      "\t- <preprocess.CountEncodingBlock object at 0x7fe55ff1abd0> 1.312[s]\n",
      "run test = False 4.850[s]\n",
      "==================== start run blocks ====================\n",
      "\t- <preprocess.TargetEncodingBlock object at 0x7fe560c28310> 0.070[s]\n",
      "\t- <preprocess.TargetEncodingBlock object at 0x7fe560c28390> 0.059[s]\n",
      "\t- <preprocess.CountEncodingBlock object at 0x7fe55ff1abd0> 0.116[s]\n",
      "run test = True 0.249[s]\n"
     ]
    }
   ],
   "source": [
    "X_train, y, group, X_test, submit = get_data()"
   ]
  },
  {
   "cell_type": "code",
   "execution_count": 287,
   "metadata": {},
   "outputs": [
    {
     "data": {
      "text/html": [
       "<div>\n",
       "<style scoped>\n",
       "    .dataframe tbody tr th:only-of-type {\n",
       "        vertical-align: middle;\n",
       "    }\n",
       "\n",
       "    .dataframe tbody tr th {\n",
       "        vertical-align: top;\n",
       "    }\n",
       "\n",
       "    .dataframe thead th {\n",
       "        text-align: right;\n",
       "    }\n",
       "</style>\n",
       "<table border=\"1\" class=\"dataframe\">\n",
       "  <thead>\n",
       "    <tr style=\"text-align: right;\">\n",
       "      <th></th>\n",
       "      <th>lat</th>\n",
       "      <th>lon</th>\n",
       "      <th>co_cnt</th>\n",
       "      <th>co_min</th>\n",
       "      <th>co_mid</th>\n",
       "      <th>co_max</th>\n",
       "      <th>co_var</th>\n",
       "      <th>o3_cnt</th>\n",
       "      <th>o3_min</th>\n",
       "      <th>o3_mid</th>\n",
       "      <th>...</th>\n",
       "      <th>TE_meanis_holiday@TargetEncodingBlock</th>\n",
       "      <th>TE_stdmonth@TargetEncodingBlock</th>\n",
       "      <th>TE_stdCountry@TargetEncodingBlock</th>\n",
       "      <th>TE_stddayofweek@TargetEncodingBlock</th>\n",
       "      <th>TE_stdis_holiday@TargetEncodingBlock</th>\n",
       "      <th>CE_year@CountEncodingBlock</th>\n",
       "      <th>CE_month@CountEncodingBlock</th>\n",
       "      <th>CE_day@CountEncodingBlock</th>\n",
       "      <th>CE_Country@CountEncodingBlock</th>\n",
       "      <th>CE_dayofweek@CountEncodingBlock</th>\n",
       "    </tr>\n",
       "  </thead>\n",
       "  <tbody>\n",
       "    <tr>\n",
       "      <th>0</th>\n",
       "      <td>-27.46794</td>\n",
       "      <td>153.02809</td>\n",
       "      <td>38</td>\n",
       "      <td>0.749</td>\n",
       "      <td>2.590</td>\n",
       "      <td>2.633</td>\n",
       "      <td>0.850</td>\n",
       "      <td>29</td>\n",
       "      <td>2.397</td>\n",
       "      <td>4.295</td>\n",
       "      <td>...</td>\n",
       "      <td>59.054433</td>\n",
       "      <td>51.561721</td>\n",
       "      <td>26.415061</td>\n",
       "      <td>38.644090</td>\n",
       "      <td>38.606203</td>\n",
       "      <td>69365</td>\n",
       "      <td>14092</td>\n",
       "      <td>6590</td>\n",
       "      <td>5656</td>\n",
       "      <td>28208</td>\n",
       "    </tr>\n",
       "    <tr>\n",
       "      <th>1</th>\n",
       "      <td>-12.46113</td>\n",
       "      <td>130.84185</td>\n",
       "      <td>47</td>\n",
       "      <td>2.594</td>\n",
       "      <td>3.181</td>\n",
       "      <td>4.828</td>\n",
       "      <td>1.208</td>\n",
       "      <td>49</td>\n",
       "      <td>3.092</td>\n",
       "      <td>7.572</td>\n",
       "      <td>...</td>\n",
       "      <td>58.551074</td>\n",
       "      <td>48.941711</td>\n",
       "      <td>25.215408</td>\n",
       "      <td>37.351057</td>\n",
       "      <td>37.287419</td>\n",
       "      <td>69365</td>\n",
       "      <td>14092</td>\n",
       "      <td>6590</td>\n",
       "      <td>5656</td>\n",
       "      <td>28208</td>\n",
       "    </tr>\n",
       "    <tr>\n",
       "      <th>2</th>\n",
       "      <td>-37.81400</td>\n",
       "      <td>144.96332</td>\n",
       "      <td>17</td>\n",
       "      <td>1.190</td>\n",
       "      <td>1.197</td>\n",
       "      <td>2.200</td>\n",
       "      <td>0.248</td>\n",
       "      <td>123</td>\n",
       "      <td>0.736</td>\n",
       "      <td>12.527</td>\n",
       "      <td>...</td>\n",
       "      <td>59.895027</td>\n",
       "      <td>52.724575</td>\n",
       "      <td>25.760983</td>\n",
       "      <td>39.243338</td>\n",
       "      <td>39.201212</td>\n",
       "      <td>69365</td>\n",
       "      <td>14092</td>\n",
       "      <td>6590</td>\n",
       "      <td>5656</td>\n",
       "      <td>28208</td>\n",
       "    </tr>\n",
       "    <tr>\n",
       "      <th>3</th>\n",
       "      <td>-32.92953</td>\n",
       "      <td>151.78010</td>\n",
       "      <td>63</td>\n",
       "      <td>4.586</td>\n",
       "      <td>11.044</td>\n",
       "      <td>14.802</td>\n",
       "      <td>24.186</td>\n",
       "      <td>90</td>\n",
       "      <td>1.917</td>\n",
       "      <td>14.141</td>\n",
       "      <td>...</td>\n",
       "      <td>59.895027</td>\n",
       "      <td>52.724575</td>\n",
       "      <td>25.760983</td>\n",
       "      <td>39.243338</td>\n",
       "      <td>39.201212</td>\n",
       "      <td>69365</td>\n",
       "      <td>14092</td>\n",
       "      <td>6590</td>\n",
       "      <td>5656</td>\n",
       "      <td>28208</td>\n",
       "    </tr>\n",
       "    <tr>\n",
       "      <th>4</th>\n",
       "      <td>-31.95224</td>\n",
       "      <td>115.86140</td>\n",
       "      <td>47</td>\n",
       "      <td>4.689</td>\n",
       "      <td>8.681</td>\n",
       "      <td>11.100</td>\n",
       "      <td>10.011</td>\n",
       "      <td>83</td>\n",
       "      <td>0.349</td>\n",
       "      <td>2.349</td>\n",
       "      <td>...</td>\n",
       "      <td>58.551074</td>\n",
       "      <td>48.941711</td>\n",
       "      <td>25.215408</td>\n",
       "      <td>37.351057</td>\n",
       "      <td>37.287419</td>\n",
       "      <td>69365</td>\n",
       "      <td>14092</td>\n",
       "      <td>6590</td>\n",
       "      <td>5656</td>\n",
       "      <td>28208</td>\n",
       "    </tr>\n",
       "  </tbody>\n",
       "</table>\n",
       "<p>5 rows × 78 columns</p>\n",
       "</div>"
      ],
      "text/plain": [
       "        lat        lon  co_cnt  co_min  co_mid  co_max  co_var  o3_cnt  \\\n",
       "0 -27.46794  153.02809      38   0.749   2.590   2.633   0.850      29   \n",
       "1 -12.46113  130.84185      47   2.594   3.181   4.828   1.208      49   \n",
       "2 -37.81400  144.96332      17   1.190   1.197   2.200   0.248     123   \n",
       "3 -32.92953  151.78010      63   4.586  11.044  14.802  24.186      90   \n",
       "4 -31.95224  115.86140      47   4.689   8.681  11.100  10.011      83   \n",
       "\n",
       "   o3_min  o3_mid  ...  TE_meanis_holiday@TargetEncodingBlock  \\\n",
       "0   2.397   4.295  ...                              59.054433   \n",
       "1   3.092   7.572  ...                              58.551074   \n",
       "2   0.736  12.527  ...                              59.895027   \n",
       "3   1.917  14.141  ...                              59.895027   \n",
       "4   0.349   2.349  ...                              58.551074   \n",
       "\n",
       "   TE_stdmonth@TargetEncodingBlock  TE_stdCountry@TargetEncodingBlock  \\\n",
       "0                        51.561721                          26.415061   \n",
       "1                        48.941711                          25.215408   \n",
       "2                        52.724575                          25.760983   \n",
       "3                        52.724575                          25.760983   \n",
       "4                        48.941711                          25.215408   \n",
       "\n",
       "   TE_stddayofweek@TargetEncodingBlock  TE_stdis_holiday@TargetEncodingBlock  \\\n",
       "0                            38.644090                             38.606203   \n",
       "1                            37.351057                             37.287419   \n",
       "2                            39.243338                             39.201212   \n",
       "3                            39.243338                             39.201212   \n",
       "4                            37.351057                             37.287419   \n",
       "\n",
       "   CE_year@CountEncodingBlock  CE_month@CountEncodingBlock  \\\n",
       "0                       69365                        14092   \n",
       "1                       69365                        14092   \n",
       "2                       69365                        14092   \n",
       "3                       69365                        14092   \n",
       "4                       69365                        14092   \n",
       "\n",
       "   CE_day@CountEncodingBlock  CE_Country@CountEncodingBlock  \\\n",
       "0                       6590                           5656   \n",
       "1                       6590                           5656   \n",
       "2                       6590                           5656   \n",
       "3                       6590                           5656   \n",
       "4                       6590                           5656   \n",
       "\n",
       "   CE_dayofweek@CountEncodingBlock  \n",
       "0                            28208  \n",
       "1                            28208  \n",
       "2                            28208  \n",
       "3                            28208  \n",
       "4                            28208  \n",
       "\n",
       "[5 rows x 78 columns]"
      ]
     },
     "execution_count": 287,
     "metadata": {},
     "output_type": "execute_result"
    }
   ],
   "source": [
    "X_train.head()"
   ]
  },
  {
   "cell_type": "code",
   "execution_count": 289,
   "metadata": {},
   "outputs": [
    {
     "data": {
      "text/plain": [
       "lat                                      0\n",
       "co_range                                 0\n",
       "Country                                  0\n",
       "day                                      0\n",
       "month                                    0\n",
       "                                      ... \n",
       "no2_var                                  0\n",
       "no2_max                                  0\n",
       "CE_dayofweek@CountEncodingBlock          0\n",
       "TE_stdCountry@TargetEncodingBlock     2887\n",
       "TE_meanCountry@TargetEncodingBlock    2887\n",
       "Length: 78, dtype: int64"
      ]
     },
     "execution_count": 289,
     "metadata": {},
     "output_type": "execute_result"
    }
   ],
   "source": [
    "X_train.isnull().sum().sort_values()"
   ]
  },
  {
   "cell_type": "code",
   "execution_count": 290,
   "metadata": {},
   "outputs": [
    {
     "data": {
      "text/plain": [
       "lat                                0\n",
       "o3_range                           0\n",
       "co_range                           0\n",
       "Country                            0\n",
       "day                                0\n",
       "                                  ..\n",
       "temperature_cnt                    0\n",
       "no2_var                            0\n",
       "no2_max                            0\n",
       "humidity_cnt                       0\n",
       "CE_dayofweek@CountEncodingBlock    0\n",
       "Length: 77, dtype: int64"
      ]
     },
     "execution_count": 290,
     "metadata": {},
     "output_type": "execute_result"
    }
   ],
   "source": [
    "X_test.isnull().sum().sort_values()"
   ]
  },
  {
   "cell_type": "code",
   "execution_count": 291,
   "metadata": {},
   "outputs": [
    {
     "data": {
      "text/plain": [
       "<AxesSubplot:>"
      ]
     },
     "execution_count": 291,
     "metadata": {},
     "output_type": "execute_result"
    },
    {
     "data": {
      "image/png": "[encoded data removed]",
      "text/plain": [
       "<Figure size 432x288 with 1 Axes>"
      ]
     },
     "metadata": {
      "needs_background": "light"
     },
     "output_type": "display_data"
    }
   ],
   "source": [
    "y.hist()"
   ]
  },
  {
   "cell_type": "code",
   "execution_count": 292,
   "metadata": {},
   "outputs": [
    {
     "data": {
      "text/plain": [
       "<AxesSubplot:>"
      ]
     },
     "execution_count": 292,
     "metadata": {},
     "output_type": "execute_result"
    },
    {
     "data": {
      "image/png": "[encoded data removed]",
      "text/plain": [
       "<Figure size 432x288 with 1 Axes>"
      ]
     },
     "metadata": {
      "needs_background": "light"
     },
     "output_type": "display_data"
    }
   ],
   "source": [
    "pd.Series(np.log1p(y)).hist()"
   ]
  },
  {
   "cell_type": "code",
   "execution_count": 293,
   "metadata": {},
   "outputs": [
    {
     "data": {
      "text/plain": [
       "<AxesSubplot:xlabel='month'>"
      ]
     },
     "execution_count": 293,
     "metadata": {},
     "output_type": "execute_result"
    },
    {
     "data": {
      "image/png": "[encoded data removed]",
      "text/plain": [
       "<Figure size 432x288 with 1 Axes>"
      ]
     },
     "metadata": {
      "needs_background": "light"
     },
     "output_type": "display_data"
    }
   ],
   "source": [
    "X_train['pm25_mid'] = y\n",
    "X_train.groupby('month')['pm25_mid'].mean().plot()"
   ]
  },
  {
   "cell_type": "code",
   "execution_count": 294,
   "metadata": {},
   "outputs": [
    {
     "data": {
      "text/plain": [
       "<AxesSubplot:xlabel='day'>"
      ]
     },
     "execution_count": 294,
     "metadata": {},
     "output_type": "execute_result"
    },
    {
     "data": {
      "image/png": "[encoded data removed]",
      "text/plain": [
       "<Figure size 432x288 with 1 Axes>"
      ]
     },
     "metadata": {
      "needs_background": "light"
     },
     "output_type": "display_data"
    }
   ],
   "source": [
    "X_train.groupby('day')['pm25_mid'].mean().plot()"
   ]
  },
  {
   "cell_type": "code",
   "execution_count": 295,
   "metadata": {},
   "outputs": [
    {
     "data": {
      "text/plain": [
       "<AxesSubplot:xlabel='dayofweek'>"
      ]
     },
     "execution_count": 295,
     "metadata": {},
     "output_type": "execute_result"
    },
    {
     "data": {
      "image/png": "[encoded data removed]",
      "text/plain": [
       "<Figure size 432x288 with 1 Axes>"
      ]
     },
     "metadata": {
      "needs_background": "light"
     },
     "output_type": "display_data"
    }
   ],
   "source": [
    "X_train.groupby('dayofweek')['pm25_mid'].mean().plot()"
   ]
  }
 ],
 "metadata": {
  "interpreter": {
   "hash": "40fff4012b1e91f4312a2f834741826b8636cc31be108fc37d9fce4b6ea9eeb4"
  },
  "kernelspec": {
   "display_name": "Python 3.7.10 64-bit ('sony_pm25')",
   "language": "python",
   "name": "python3"
  },
  "language_info": {
   "codemirror_mode": {
    "name": "ipython",
    "version": 3
   },
   "file_extension": ".py",
   "mimetype": "text/x-python",
   "name": "python",
   "nbconvert_exporter": "python",
   "pygments_lexer": "ipython3",
   "version": "3.7.10"
  },
  "orig_nbformat": 4
 },
 "nbformat": 4,
 "nbformat_minor": 2
}
