{
 "cells": [
  {
   "cell_type": "code",
   "execution_count": 2,
   "metadata": {},
   "outputs": [],
   "source": [
    "%load_ext autoreload\n",
    "%autoreload 2\n",
    "\n",
    "import pandas as pd\n",
    "import numpy as np\n",
    "import sys\n",
    "import seaborn as sns\n",
    "sys.path.append('../src/')\n",
    "sys.path.append('../src/exp_004')\n",
    "from preprocess import read_data, get_data"
   ]
  },
  {
   "cell_type": "code",
   "execution_count": 3,
   "metadata": {},
   "outputs": [],
   "source": [
    "train, test, submit = read_data()"
   ]
  },
  {
   "cell_type": "code",
   "execution_count": 4,
   "metadata": {},
   "outputs": [
    {
     "data": {
      "text/html": [
       "<div>\n",
       "<style scoped>\n",
       "    .dataframe tbody tr th:only-of-type {\n",
       "        vertical-align: middle;\n",
       "    }\n",
       "\n",
       "    .dataframe tbody tr th {\n",
       "        vertical-align: top;\n",
       "    }\n",
       "\n",
       "    .dataframe thead th {\n",
       "        text-align: right;\n",
       "    }\n",
       "</style>\n",
       "<table border=\"1\" class=\"dataframe\">\n",
       "  <thead>\n",
       "    <tr style=\"text-align: right;\">\n",
       "      <th></th>\n",
       "      <th>id</th>\n",
       "      <th>year</th>\n",
       "      <th>month</th>\n",
       "      <th>day</th>\n",
       "      <th>Country</th>\n",
       "      <th>City</th>\n",
       "      <th>lat</th>\n",
       "      <th>lon</th>\n",
       "      <th>co_cnt</th>\n",
       "      <th>co_min</th>\n",
       "      <th>...</th>\n",
       "      <th>ws_min</th>\n",
       "      <th>ws_mid</th>\n",
       "      <th>ws_max</th>\n",
       "      <th>ws_var</th>\n",
       "      <th>dew_cnt</th>\n",
       "      <th>dew_min</th>\n",
       "      <th>dew_mid</th>\n",
       "      <th>dew_max</th>\n",
       "      <th>dew_var</th>\n",
       "      <th>pm25_mid</th>\n",
       "    </tr>\n",
       "  </thead>\n",
       "  <tbody>\n",
       "    <tr>\n",
       "      <th>0</th>\n",
       "      <td>1</td>\n",
       "      <td>2019</td>\n",
       "      <td>1</td>\n",
       "      <td>1</td>\n",
       "      <td>Australia</td>\n",
       "      <td>Brisbane</td>\n",
       "      <td>-27.46794</td>\n",
       "      <td>153.02809</td>\n",
       "      <td>38</td>\n",
       "      <td>0.749</td>\n",
       "      <td>...</td>\n",
       "      <td>0.241</td>\n",
       "      <td>1.088</td>\n",
       "      <td>3.101</td>\n",
       "      <td>1.983</td>\n",
       "      <td>17</td>\n",
       "      <td>7.671</td>\n",
       "      <td>10.358</td>\n",
       "      <td>15.112</td>\n",
       "      <td>13.424</td>\n",
       "      <td>19.901</td>\n",
       "    </tr>\n",
       "    <tr>\n",
       "      <th>1</th>\n",
       "      <td>2</td>\n",
       "      <td>2019</td>\n",
       "      <td>1</td>\n",
       "      <td>1</td>\n",
       "      <td>Australia</td>\n",
       "      <td>Darwin</td>\n",
       "      <td>-12.46113</td>\n",
       "      <td>130.84185</td>\n",
       "      <td>47</td>\n",
       "      <td>2.594</td>\n",
       "      <td>...</td>\n",
       "      <td>0.828</td>\n",
       "      <td>3.473</td>\n",
       "      <td>7.396</td>\n",
       "      <td>10.411</td>\n",
       "      <td>62</td>\n",
       "      <td>21.324</td>\n",
       "      <td>23.813</td>\n",
       "      <td>24.221</td>\n",
       "      <td>2.021</td>\n",
       "      <td>13.741</td>\n",
       "    </tr>\n",
       "    <tr>\n",
       "      <th>2</th>\n",
       "      <td>3</td>\n",
       "      <td>2019</td>\n",
       "      <td>1</td>\n",
       "      <td>1</td>\n",
       "      <td>Australia</td>\n",
       "      <td>Melbourne</td>\n",
       "      <td>-37.81400</td>\n",
       "      <td>144.96332</td>\n",
       "      <td>17</td>\n",
       "      <td>1.190</td>\n",
       "      <td>...</td>\n",
       "      <td>0.000</td>\n",
       "      <td>2.107</td>\n",
       "      <td>8.089</td>\n",
       "      <td>15.719</td>\n",
       "      <td>22</td>\n",
       "      <td>10.309</td>\n",
       "      <td>13.133</td>\n",
       "      <td>15.422</td>\n",
       "      <td>6.355</td>\n",
       "      <td>25.918</td>\n",
       "    </tr>\n",
       "    <tr>\n",
       "      <th>3</th>\n",
       "      <td>4</td>\n",
       "      <td>2019</td>\n",
       "      <td>1</td>\n",
       "      <td>1</td>\n",
       "      <td>Australia</td>\n",
       "      <td>Newcastle</td>\n",
       "      <td>-32.92953</td>\n",
       "      <td>151.78010</td>\n",
       "      <td>63</td>\n",
       "      <td>4.586</td>\n",
       "      <td>...</td>\n",
       "      <td>0.284</td>\n",
       "      <td>0.503</td>\n",
       "      <td>3.592</td>\n",
       "      <td>2.485</td>\n",
       "      <td>116</td>\n",
       "      <td>7.146</td>\n",
       "      <td>10.685</td>\n",
       "      <td>13.344</td>\n",
       "      <td>9.417</td>\n",
       "      <td>174.370</td>\n",
       "    </tr>\n",
       "    <tr>\n",
       "      <th>4</th>\n",
       "      <td>5</td>\n",
       "      <td>2019</td>\n",
       "      <td>1</td>\n",
       "      <td>1</td>\n",
       "      <td>Australia</td>\n",
       "      <td>Perth</td>\n",
       "      <td>-31.95224</td>\n",
       "      <td>115.86140</td>\n",
       "      <td>47</td>\n",
       "      <td>4.689</td>\n",
       "      <td>...</td>\n",
       "      <td>0.500</td>\n",
       "      <td>0.755</td>\n",
       "      <td>3.396</td>\n",
       "      <td>1.937</td>\n",
       "      <td>93</td>\n",
       "      <td>1.091</td>\n",
       "      <td>3.277</td>\n",
       "      <td>12.272</td>\n",
       "      <td>4.109</td>\n",
       "      <td>167.063</td>\n",
       "    </tr>\n",
       "  </tbody>\n",
       "</table>\n",
       "<p>5 rows × 54 columns</p>\n",
       "</div>"
      ],
      "text/plain": [
       "   id  year  month  day    Country       City       lat        lon  co_cnt  \\\n",
       "0   1  2019      1    1  Australia   Brisbane -27.46794  153.02809      38   \n",
       "1   2  2019      1    1  Australia     Darwin -12.46113  130.84185      47   \n",
       "2   3  2019      1    1  Australia  Melbourne -37.81400  144.96332      17   \n",
       "3   4  2019      1    1  Australia  Newcastle -32.92953  151.78010      63   \n",
       "4   5  2019      1    1  Australia      Perth -31.95224  115.86140      47   \n",
       "\n",
       "   co_min  ...  ws_min  ws_mid  ws_max  ws_var  dew_cnt  dew_min  dew_mid  \\\n",
       "0   0.749  ...   0.241   1.088   3.101   1.983       17    7.671   10.358   \n",
       "1   2.594  ...   0.828   3.473   7.396  10.411       62   21.324   23.813   \n",
       "2   1.190  ...   0.000   2.107   8.089  15.719       22   10.309   13.133   \n",
       "3   4.586  ...   0.284   0.503   3.592   2.485      116    7.146   10.685   \n",
       "4   4.689  ...   0.500   0.755   3.396   1.937       93    1.091    3.277   \n",
       "\n",
       "   dew_max  dew_var  pm25_mid  \n",
       "0   15.112   13.424    19.901  \n",
       "1   24.221    2.021    13.741  \n",
       "2   15.422    6.355    25.918  \n",
       "3   13.344    9.417   174.370  \n",
       "4   12.272    4.109   167.063  \n",
       "\n",
       "[5 rows x 54 columns]"
      ]
     },
     "execution_count": 4,
     "metadata": {},
     "output_type": "execute_result"
    }
   ],
   "source": [
    "train.head()"
   ]
  },
  {
   "cell_type": "code",
   "execution_count": 5,
   "metadata": {},
   "outputs": [
    {
     "data": {
      "text/plain": [
       "239"
      ]
     },
     "execution_count": 5,
     "metadata": {},
     "output_type": "execute_result"
    }
   ],
   "source": [
    "train.City.nunique()"
   ]
  },
  {
   "cell_type": "code",
   "execution_count": 6,
   "metadata": {},
   "outputs": [
    {
     "data": {
      "text/plain": [
       "63"
      ]
     },
     "execution_count": 6,
     "metadata": {},
     "output_type": "execute_result"
    }
   ],
   "source": [
    "test.City.nunique()"
   ]
  },
  {
   "cell_type": "code",
   "execution_count": 10,
   "metadata": {},
   "outputs": [
    {
     "data": {
      "text/plain": [
       "(238, 239)"
      ]
     },
     "execution_count": 10,
     "metadata": {},
     "output_type": "execute_result"
    }
   ],
   "source": [
    "train.lon.nunique(), train.lat.nunique()"
   ]
  },
  {
   "cell_type": "code",
   "execution_count": 9,
   "metadata": {},
   "outputs": [
    {
     "data": {
      "text/plain": [
       "<matplotlib.collections.PathCollection at 0x7f1d5a244610>"
      ]
     },
     "execution_count": 9,
     "metadata": {},
     "output_type": "execute_result"
    },
    {
     "data": {
      "image/png": "[encoded data removed]",
      "text/plain": [
       "<Figure size 432x288 with 1 Axes>"
      ]
     },
     "metadata": {
      "needs_background": "light"
     },
     "output_type": "display_data"
    }
   ],
   "source": [
    "import matplotlib.pyplot as plt\n",
    "plt.scatter(train.lon, train.lat, c=train['pm25_mid'], cmap='Blues') "
   ]
  },
  {
   "cell_type": "code",
   "execution_count": 8,
   "metadata": {},
   "outputs": [
    {
     "data": {
      "text/plain": [
       "<matplotlib.collections.PathCollection at 0x7f1d5dce9b50>"
      ]
     },
     "execution_count": 8,
     "metadata": {},
     "output_type": "execute_result"
    },
    {
     "data": {
      "image/png": "[encoded data removed]",
      "text/plain": [
       "<Figure size 432x288 with 1 Axes>"
      ]
     },
     "metadata": {
      "needs_background": "light"
     },
     "output_type": "display_data"
    }
   ],
   "source": [
    "plt.scatter(test.lon, test.lat) "
   ]
  }
 ],
 "metadata": {
  "interpreter": {
   "hash": "40fff4012b1e91f4312a2f834741826b8636cc31be108fc37d9fce4b6ea9eeb4"
  },
  "kernelspec": {
   "display_name": "Python 3.7.10 64-bit ('sony_pm25')",
   "language": "python",
   "name": "python3"
  },
  "language_info": {
   "codemirror_mode": {
    "name": "ipython",
    "version": 3
   },
   "file_extension": ".py",
   "mimetype": "text/x-python",
   "name": "python",
   "nbconvert_exporter": "python",
   "pygments_lexer": "ipython3",
   "version": "3.7.10"
  },
  "orig_nbformat": 4
 },
 "nbformat": 4,
 "nbformat_minor": 2
}
