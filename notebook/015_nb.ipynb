{
 "cells": [
  {
   "cell_type": "code",
   "execution_count": 11,
   "metadata": {},
   "outputs": [],
   "source": [
    "import pandas as pd\n",
    "\n",
    "submit_lgb = pd.read_csv('/home/yoshikawa/work/signate/sony_pm25/save/exp014/none/submit.csv', header=None)\n",
    "submit_xgb = pd.read_csv('/home/yoshikawa/work/signate/sony_pm25/save/exp015/none/submit.csv', header=None)"
   ]
  },
  {
   "cell_type": "code",
   "execution_count": 12,
   "metadata": {},
   "outputs": [
    {
     "data": {
      "text/html": [
       "<div>\n",
       "<style scoped>\n",
       "    .dataframe tbody tr th:only-of-type {\n",
       "        vertical-align: middle;\n",
       "    }\n",
       "\n",
       "    .dataframe tbody tr th {\n",
       "        vertical-align: top;\n",
       "    }\n",
       "\n",
       "    .dataframe thead th {\n",
       "        text-align: right;\n",
       "    }\n",
       "</style>\n",
       "<table border=\"1\" class=\"dataframe\">\n",
       "  <thead>\n",
       "    <tr style=\"text-align: right;\">\n",
       "      <th></th>\n",
       "      <th>0</th>\n",
       "      <th>1</th>\n",
       "    </tr>\n",
       "  </thead>\n",
       "  <tbody>\n",
       "    <tr>\n",
       "      <th>0</th>\n",
       "      <td>195942</td>\n",
       "      <td>25.942034</td>\n",
       "    </tr>\n",
       "    <tr>\n",
       "      <th>1</th>\n",
       "      <td>195943</td>\n",
       "      <td>42.550284</td>\n",
       "    </tr>\n",
       "    <tr>\n",
       "      <th>2</th>\n",
       "      <td>195944</td>\n",
       "      <td>29.109043</td>\n",
       "    </tr>\n",
       "    <tr>\n",
       "      <th>3</th>\n",
       "      <td>195945</td>\n",
       "      <td>55.942545</td>\n",
       "    </tr>\n",
       "    <tr>\n",
       "      <th>4</th>\n",
       "      <td>195946</td>\n",
       "      <td>135.133210</td>\n",
       "    </tr>\n",
       "  </tbody>\n",
       "</table>\n",
       "</div>"
      ],
      "text/plain": [
       "        0           1\n",
       "0  195942   25.942034\n",
       "1  195943   42.550284\n",
       "2  195944   29.109043\n",
       "3  195945   55.942545\n",
       "4  195946  135.133210"
      ]
     },
     "execution_count": 12,
     "metadata": {},
     "output_type": "execute_result"
    }
   ],
   "source": [
    "submit_lgb.head()"
   ]
  },
  {
   "cell_type": "code",
   "execution_count": 13,
   "metadata": {},
   "outputs": [],
   "source": [
    "submit_lgb.iloc[:, 1] = submit_lgb.iloc[:, 1] * 0.9 + submit_xgb.iloc[:, 1] * 0.1"
   ]
  },
  {
   "cell_type": "code",
   "execution_count": 15,
   "metadata": {},
   "outputs": [],
   "source": [
    "import os\n",
    "\n",
    "submit_lgb.to_csv('/home/yoshikawa/work/signate/sony_pm25/save/exp015/none/submit_blend.csv', header=False, index=False)\n"
   ]
  }
 ],
 "metadata": {
  "interpreter": {
   "hash": "40fff4012b1e91f4312a2f834741826b8636cc31be108fc37d9fce4b6ea9eeb4"
  },
  "kernelspec": {
   "display_name": "Python 3.7.10 64-bit ('sony_pm25')",
   "language": "python",
   "name": "python3"
  },
  "language_info": {
   "codemirror_mode": {
    "name": "ipython",
    "version": 3
   },
   "file_extension": ".py",
   "mimetype": "text/x-python",
   "name": "python",
   "nbconvert_exporter": "python",
   "pygments_lexer": "ipython3",
   "version": "3.7.10"
  },
  "orig_nbformat": 4
 },
 "nbformat": 4,
 "nbformat_minor": 2
}
